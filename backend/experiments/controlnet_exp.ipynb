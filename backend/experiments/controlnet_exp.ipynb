{
 "cells": [
  {
   "cell_type": "code",
   "execution_count": 1,
   "metadata": {},
   "outputs": [
    {
     "name": "stdout",
     "output_type": "stream",
     "text": [
      "Looking in indexes: https://pypi.org/simple, https://pypi.ngc.nvidia.com\n",
      "Collecting controlnet_aux\n",
      "  Downloading controlnet_aux-0.0.7.tar.gz (202 kB)\n",
      "\u001b[2K     \u001b[90m━━━━━━━━━━━━━━━━━━━━━━━━━━━━━━━━━━━━━━━\u001b[0m \u001b[32m202.4/202.4 kB\u001b[0m \u001b[31m5.8 MB/s\u001b[0m eta \u001b[36m0:00:00\u001b[0m\n",
      "\u001b[?25h  Preparing metadata (setup.py) ... \u001b[?25ldone\n",
      "\u001b[?25hRequirement already satisfied: torch in /home/karan/anaconda3/envs/python39/lib/python3.9/site-packages (from controlnet_aux) (2.2.0)\n",
      "Requirement already satisfied: importlib_metadata in /home/karan/anaconda3/envs/python39/lib/python3.9/site-packages (from controlnet_aux) (6.0.0)\n",
      "Requirement already satisfied: huggingface_hub in /home/karan/anaconda3/envs/python39/lib/python3.9/site-packages (from controlnet_aux) (0.20.3)\n",
      "Requirement already satisfied: scipy in /home/karan/anaconda3/envs/python39/lib/python3.9/site-packages (from controlnet_aux) (1.11.3)\n",
      "Requirement already satisfied: opencv-python in /home/karan/anaconda3/envs/python39/lib/python3.9/site-packages (from controlnet_aux) (4.8.1.78)\n",
      "Requirement already satisfied: filelock in /home/karan/anaconda3/envs/python39/lib/python3.9/site-packages (from controlnet_aux) (3.13.1)\n",
      "Requirement already satisfied: numpy in /home/karan/anaconda3/envs/python39/lib/python3.9/site-packages (from controlnet_aux) (1.23.5)\n",
      "Requirement already satisfied: Pillow in /home/karan/anaconda3/envs/python39/lib/python3.9/site-packages (from controlnet_aux) (10.0.1)\n",
      "Requirement already satisfied: einops in /home/karan/anaconda3/envs/python39/lib/python3.9/site-packages (from controlnet_aux) (0.3.2)\n",
      "Requirement already satisfied: torchvision in /home/karan/anaconda3/envs/python39/lib/python3.9/site-packages (from controlnet_aux) (0.17.0)\n",
      "Requirement already satisfied: timm in /home/karan/anaconda3/envs/python39/lib/python3.9/site-packages (from controlnet_aux) (0.9.2)\n",
      "Requirement already satisfied: scikit-image in /home/karan/.local/lib/python3.9/site-packages (from controlnet_aux) (0.18.3)\n",
      "Requirement already satisfied: fsspec>=2023.5.0 in /home/karan/anaconda3/envs/python39/lib/python3.9/site-packages (from huggingface_hub->controlnet_aux) (2023.10.0)\n",
      "Requirement already satisfied: requests in /home/karan/anaconda3/envs/python39/lib/python3.9/site-packages (from huggingface_hub->controlnet_aux) (2.31.0)\n",
      "Requirement already satisfied: tqdm>=4.42.1 in /home/karan/anaconda3/envs/python39/lib/python3.9/site-packages (from huggingface_hub->controlnet_aux) (4.66.1)\n",
      "Requirement already satisfied: pyyaml>=5.1 in /home/karan/anaconda3/envs/python39/lib/python3.9/site-packages (from huggingface_hub->controlnet_aux) (6.0.1)\n",
      "Requirement already satisfied: typing-extensions>=3.7.4.3 in /home/karan/anaconda3/envs/python39/lib/python3.9/site-packages (from huggingface_hub->controlnet_aux) (4.8.0)\n",
      "Requirement already satisfied: packaging>=20.9 in /home/karan/anaconda3/envs/python39/lib/python3.9/site-packages (from huggingface_hub->controlnet_aux) (23.2)\n",
      "Requirement already satisfied: zipp>=0.5 in /home/karan/anaconda3/envs/python39/lib/python3.9/site-packages (from importlib_metadata->controlnet_aux) (3.11.0)\n",
      "Requirement already satisfied: matplotlib!=3.0.0,>=2.0.0 in /home/karan/anaconda3/envs/python39/lib/python3.9/site-packages (from scikit-image->controlnet_aux) (3.8.0)\n",
      "Requirement already satisfied: networkx>=2.0 in /home/karan/anaconda3/envs/python39/lib/python3.9/site-packages (from scikit-image->controlnet_aux) (3.2.1)\n",
      "Requirement already satisfied: imageio>=2.3.0 in /home/karan/anaconda3/envs/python39/lib/python3.9/site-packages (from scikit-image->controlnet_aux) (2.25.1)\n",
      "Requirement already satisfied: tifffile>=2019.7.26 in /home/karan/.local/lib/python3.9/site-packages (from scikit-image->controlnet_aux) (2021.8.30)\n",
      "Requirement already satisfied: PyWavelets>=1.1.1 in /home/karan/.local/lib/python3.9/site-packages (from scikit-image->controlnet_aux) (1.1.1)\n",
      "Requirement already satisfied: safetensors in /home/karan/anaconda3/envs/python39/lib/python3.9/site-packages (from timm->controlnet_aux) (0.4.2)\n",
      "Requirement already satisfied: sympy in /home/karan/anaconda3/envs/python39/lib/python3.9/site-packages (from torch->controlnet_aux) (1.12)\n",
      "Requirement already satisfied: jinja2 in /home/karan/anaconda3/envs/python39/lib/python3.9/site-packages (from torch->controlnet_aux) (3.1.2)\n",
      "Requirement already satisfied: nvidia-cuda-nvrtc-cu12==12.1.105 in /home/karan/anaconda3/envs/python39/lib/python3.9/site-packages (from torch->controlnet_aux) (12.1.105)\n",
      "Requirement already satisfied: nvidia-cuda-runtime-cu12==12.1.105 in /home/karan/anaconda3/envs/python39/lib/python3.9/site-packages (from torch->controlnet_aux) (12.1.105)\n",
      "Requirement already satisfied: nvidia-cuda-cupti-cu12==12.1.105 in /home/karan/anaconda3/envs/python39/lib/python3.9/site-packages (from torch->controlnet_aux) (12.1.105)\n",
      "Requirement already satisfied: nvidia-cudnn-cu12==8.9.2.26 in /home/karan/anaconda3/envs/python39/lib/python3.9/site-packages (from torch->controlnet_aux) (8.9.2.26)\n",
      "Requirement already satisfied: nvidia-cublas-cu12==12.1.3.1 in /home/karan/anaconda3/envs/python39/lib/python3.9/site-packages (from torch->controlnet_aux) (12.1.3.1)\n",
      "Requirement already satisfied: nvidia-cufft-cu12==11.0.2.54 in /home/karan/anaconda3/envs/python39/lib/python3.9/site-packages (from torch->controlnet_aux) (11.0.2.54)\n",
      "Requirement already satisfied: nvidia-curand-cu12==10.3.2.106 in /home/karan/anaconda3/envs/python39/lib/python3.9/site-packages (from torch->controlnet_aux) (10.3.2.106)\n",
      "Requirement already satisfied: nvidia-cusolver-cu12==11.4.5.107 in /home/karan/anaconda3/envs/python39/lib/python3.9/site-packages (from torch->controlnet_aux) (11.4.5.107)\n",
      "Requirement already satisfied: nvidia-cusparse-cu12==12.1.0.106 in /home/karan/anaconda3/envs/python39/lib/python3.9/site-packages (from torch->controlnet_aux) (12.1.0.106)\n",
      "Requirement already satisfied: nvidia-nccl-cu12==2.19.3 in /home/karan/anaconda3/envs/python39/lib/python3.9/site-packages (from torch->controlnet_aux) (2.19.3)\n",
      "Requirement already satisfied: nvidia-nvtx-cu12==12.1.105 in /home/karan/anaconda3/envs/python39/lib/python3.9/site-packages (from torch->controlnet_aux) (12.1.105)\n",
      "Requirement already satisfied: triton==2.2.0 in /home/karan/anaconda3/envs/python39/lib/python3.9/site-packages (from torch->controlnet_aux) (2.2.0)\n",
      "Requirement already satisfied: nvidia-nvjitlink-cu12 in /home/karan/anaconda3/envs/python39/lib/python3.9/site-packages (from nvidia-cusolver-cu12==11.4.5.107->torch->controlnet_aux) (12.3.52)\n",
      "Requirement already satisfied: contourpy>=1.0.1 in /home/karan/anaconda3/envs/python39/lib/python3.9/site-packages (from matplotlib!=3.0.0,>=2.0.0->scikit-image->controlnet_aux) (1.1.1)\n",
      "Requirement already satisfied: cycler>=0.10 in /home/karan/anaconda3/envs/python39/lib/python3.9/site-packages (from matplotlib!=3.0.0,>=2.0.0->scikit-image->controlnet_aux) (0.12.1)\n",
      "Requirement already satisfied: fonttools>=4.22.0 in /home/karan/anaconda3/envs/python39/lib/python3.9/site-packages (from matplotlib!=3.0.0,>=2.0.0->scikit-image->controlnet_aux) (4.43.1)\n",
      "Requirement already satisfied: kiwisolver>=1.0.1 in /home/karan/anaconda3/envs/python39/lib/python3.9/site-packages (from matplotlib!=3.0.0,>=2.0.0->scikit-image->controlnet_aux) (1.4.5)\n",
      "Requirement already satisfied: pyparsing>=2.3.1 in /home/karan/anaconda3/envs/python39/lib/python3.9/site-packages (from matplotlib!=3.0.0,>=2.0.0->scikit-image->controlnet_aux) (3.1.1)\n",
      "Requirement already satisfied: python-dateutil>=2.7 in /home/karan/anaconda3/envs/python39/lib/python3.9/site-packages (from matplotlib!=3.0.0,>=2.0.0->scikit-image->controlnet_aux) (2.8.1)\n",
      "Requirement already satisfied: importlib-resources>=3.2.0 in /home/karan/anaconda3/envs/python39/lib/python3.9/site-packages (from matplotlib!=3.0.0,>=2.0.0->scikit-image->controlnet_aux) (6.1.0)\n",
      "Requirement already satisfied: MarkupSafe>=2.0 in /home/karan/anaconda3/envs/python39/lib/python3.9/site-packages (from jinja2->torch->controlnet_aux) (2.1.1)\n",
      "Requirement already satisfied: charset-normalizer<4,>=2 in /home/karan/anaconda3/envs/python39/lib/python3.9/site-packages (from requests->huggingface_hub->controlnet_aux) (2.0.4)\n",
      "Requirement already satisfied: idna<4,>=2.5 in /home/karan/anaconda3/envs/python39/lib/python3.9/site-packages (from requests->huggingface_hub->controlnet_aux) (3.4)\n",
      "Requirement already satisfied: urllib3<3,>=1.21.1 in /home/karan/anaconda3/envs/python39/lib/python3.9/site-packages (from requests->huggingface_hub->controlnet_aux) (1.26.18)\n",
      "Requirement already satisfied: certifi>=2017.4.17 in /home/karan/anaconda3/envs/python39/lib/python3.9/site-packages (from requests->huggingface_hub->controlnet_aux) (2023.11.17)\n",
      "Requirement already satisfied: mpmath>=0.19 in /home/karan/anaconda3/envs/python39/lib/python3.9/site-packages (from sympy->torch->controlnet_aux) (1.3.0)\n",
      "Requirement already satisfied: six>=1.5 in /home/karan/.local/lib/python3.9/site-packages (from python-dateutil>=2.7->matplotlib!=3.0.0,>=2.0.0->scikit-image->controlnet_aux) (1.16.0)\n",
      "Building wheels for collected packages: controlnet_aux\n",
      "  Building wheel for controlnet_aux (setup.py) ... \u001b[?25ldone\n",
      "\u001b[?25h  Created wheel for controlnet_aux: filename=controlnet_aux-0.0.7-py3-none-any.whl size=274341 sha256=9f05d60c1d30d8271ee02d755220ad12f0b409adf7a766ad8d6183c0a361b03a\n",
      "  Stored in directory: /tmp/pip-ephem-wheel-cache-7ptr7coq/wheels/6d/bd/23/8bbf2431de6fc5d0913f5c63660cfb26de102288846132cae3\n",
      "Successfully built controlnet_aux\n",
      "\u001b[33mDEPRECATION: pytorch-lightning 1.6.5 has a non-standard dependency specifier torch>=1.8.*. pip 24.0 will enforce this behaviour change. A possible replacement is to upgrade to a newer version of pytorch-lightning or contact the author to suggest that they release a version with a conforming dependency specifiers. Discussion can be found at https://github.com/pypa/pip/issues/12063\u001b[0m\u001b[33m\n",
      "\u001b[0mInstalling collected packages: controlnet_aux\n",
      "Successfully installed controlnet_aux-0.0.7\n",
      "\n",
      "\u001b[1m[\u001b[0m\u001b[34;49mnotice\u001b[0m\u001b[1;39;49m]\u001b[0m\u001b[39;49m A new release of pip is available: \u001b[0m\u001b[31;49m23.2.dev0\u001b[0m\u001b[39;49m -> \u001b[0m\u001b[32;49m24.0\u001b[0m\n",
      "\u001b[1m[\u001b[0m\u001b[34;49mnotice\u001b[0m\u001b[1;39;49m]\u001b[0m\u001b[39;49m To update, run: \u001b[0m\u001b[32;49mpip install --upgrade pip\u001b[0m\n"
     ]
    }
   ],
   "source": [
    "!pip install controlnet_aux"
   ]
  },
  {
   "cell_type": "code",
   "execution_count": 2,
   "metadata": {},
   "outputs": [],
   "source": [
    "from diffusers.utils import load_image"
   ]
  },
  {
   "cell_type": "code",
   "execution_count": 3,
   "metadata": {},
   "outputs": [
    {
     "name": "stderr",
     "output_type": "stream",
     "text": [
      "2024-03-22 15:46:50.852285: I tensorflow/tsl/cuda/cudart_stub.cc:28] Could not find cuda drivers on your machine, GPU will not be used.\n",
      "2024-03-22 15:46:50.891546: I tensorflow/core/platform/cpu_feature_guard.cc:182] This TensorFlow binary is optimized to use available CPU instructions in performance-critical operations.\n",
      "To enable the following instructions: AVX2 FMA, in other operations, rebuild TensorFlow with the appropriate compiler flags.\n"
     ]
    },
    {
     "data": {
      "application/vnd.jupyter.widget-view+json": {
       "model_id": "338ea7a684934ae38b3a7ebbeea8200a",
       "version_major": 2,
       "version_minor": 0
      },
      "text/plain": [
       "body_pose_model.pth:   0%|          | 0.00/209M [00:00<?, ?B/s]"
      ]
     },
     "metadata": {},
     "output_type": "display_data"
    },
    {
     "data": {
      "application/vnd.jupyter.widget-view+json": {
       "model_id": "58f26dff40e54dfcb60cf202865d0058",
       "version_major": 2,
       "version_minor": 0
      },
      "text/plain": [
       "hand_pose_model.pth:   0%|          | 0.00/147M [00:00<?, ?B/s]"
      ]
     },
     "metadata": {},
     "output_type": "display_data"
    },
    {
     "data": {
      "application/vnd.jupyter.widget-view+json": {
       "model_id": "61ece186d1fc4c93ba7409615301af51",
       "version_major": 2,
       "version_minor": 0
      },
      "text/plain": [
       "facenet.pth:   0%|          | 0.00/154M [00:00<?, ?B/s]"
      ]
     },
     "metadata": {},
     "output_type": "display_data"
    }
   ],
   "source": [
    "from controlnet_aux import OpenposeDetector\n",
    "\n",
    "\n",
    "img = load_image('professional_shot.jpg')\n",
    "model = OpenposeDetector.from_pretrained(\"lllyasviel/ControlNet\")\n",
    "\n",
    "poses = model(img)\n",
    "\n"
   ]
  },
  {
   "cell_type": "code",
   "execution_count": 4,
   "metadata": {},
   "outputs": [
    {
     "data": {
      "image/jpeg": "[encoded data removed]",
      "image/png": "[encoded data removed]",
      "text/plain": [
       "<PIL.Image.Image image mode=RGB size=640x512>"
      ]
     },
     "execution_count": 4,
     "metadata": {},
     "output_type": "execute_result"
    }
   ],
   "source": [
    "poses"
   ]
  },
  {
   "cell_type": "code",
   "execution_count": 5,
   "metadata": {},
   "outputs": [],
   "source": [
    "poses.save('professional_pose.png')"
   ]
  },
  {
   "cell_type": "code",
   "execution_count": null,
   "metadata": {},
   "outputs": [],
   "source": []
  }
 ],
 "metadata": {
  "kernelspec": {
   "display_name": "python39",
   "language": "python",
   "name": "python3"
  },
  "language_info": {
   "codemirror_mode": {
    "name": "ipython",
    "version": 3
   },
   "file_extension": ".py",
   "mimetype": "text/x-python",
   "name": "python",
   "nbconvert_exporter": "python",
   "pygments_lexer": "ipython3",
   "version": "3.9.0"
  }
 },
 "nbformat": 4,
 "nbformat_minor": 2
}
